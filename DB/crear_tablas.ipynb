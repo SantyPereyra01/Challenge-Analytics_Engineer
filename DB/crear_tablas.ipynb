{
 "cells": [
  {
   "cell_type": "markdown",
   "metadata": {},
   "source": [
    "#CREAMOS LAS TABLAS\n"
   ]
  },
  {
   "cell_type": "code",
   "execution_count": 9,
   "metadata": {},
   "outputs": [
    {
     "name": "stdout",
     "output_type": "stream",
     "text": [
      "Base de datos creada o conectada con éxito\n"
     ]
    }
   ],
   "source": [
    "import sqlite3\n",
    "\n",
    "# Crear o conectar a la base de datos local\n",
    "conexion = sqlite3.connect(\"datos_internet.db\")  # Nombre del archivo de la base de datos\n",
    "print(\"Base de datos creada o conectada con éxito\")\n",
    "\n",
    "# Cerrar la conexión\n",
    "conexion.close()\n",
    "\n"
   ]
  },
  {
   "cell_type": "code",
   "execution_count": 11,
   "metadata": {},
   "outputs": [
    {
     "name": "stdout",
     "output_type": "stream",
     "text": [
      "Datos cargados en la tabla 'datos_internet'.\n"
     ]
    }
   ],
   "source": [
    "import sqlite3\n",
    "import pandas as pd\n",
    "\n",
    "# --- Configuración de rutas ---\n",
    "ruta_csv = \"C:\\\\Users\\\\santi\\\\Challenge-Analytics_Engineer\\\\DB\\\\Archivos\\\\standarizado_renombrado_Origen_normalizado.csv\"   # Archivo CSV estandarizado\n",
    "ruta_db = \"datos_internet.db\"  # Nombre del archivo de la base de datos\n",
    "\n",
    "# --- Leer el archivo CSV ---\n",
    "df = pd.read_csv(ruta_csv)\n",
    "\n",
    "# --- Crear o conectar a la base de datos SQLite ---\n",
    "conexion = sqlite3.connect(ruta_db)\n",
    "\n",
    "# --- Crear la tabla SQL ---\n",
    "crear_tabla = \"\"\"\n",
    "CREATE TABLE IF NOT EXISTS indicadores (\n",
    "    pais TEXT,\n",
    "    cod_pais TEXT,\n",
    "    anio INTEGER,\n",
    "    usuarios_internet_pct REAL,\n",
    "    internet_hombres_pct REAL,\n",
    "    internet_mujeres_pct REAL,\n",
    "    banda_ancha_fija REAL,\n",
    "    lineas_telefonicas REAL,\n",
    "    suscripciones_celulares_moviles REAL,\n",
    "    celulares_por_100_personas REAL,\n",
    "    pib_per_capita_usd REAL,\n",
    "    poblacion_urbana REAL,\n",
    "    poblacion_urbana_pct REAL,\n",
    "    servidores_internet_por_millon REAL,\n",
    "    servidores_internet REAL,\n",
    "    exportaciones_tic_pct REAL,\n",
    "    importaciones_tic_pct REAL,\n",
    "    gasto_educacion_pib_pct REAL,\n",
    "    gasto_investigacion_pib_pct REAL,\n",
    "    tasa_alfabetizacion_mujeres REAL,\n",
    "    tasa_alfabetizacion_hombres REAL,\n",
    "    tasa_alfabetizacion_total REAL,\n",
    "    matricula_educacion_terciaria_pct REAL,\n",
    "    matricula_educacion_terciaria_mujeres_pct REAL,\n",
    "    matricula_educacion_terciaria_hombres_pct REAL,\n",
    "    indice_gini REAL,\n",
    "    tasa_pobreza_nacional_pct REAL,\n",
    "    tasa_desempleo_total_nacional_pct REAL\n",
    ");\n",
    "\"\"\"\n",
    "conexion.execute(crear_tabla)\n",
    "\n",
    "# --- Insertar los datos en la tabla ---\n",
    "df.to_sql(\"datos_internet\", conexion, if_exists=\"replace\", index=False)\n",
    "print(\"Datos cargados en la tabla 'datos_internet'.\")\n",
    "\n",
    "# --- Cerrar la conexión ---\n",
    "conexion.close()\n"
   ]
  },
  {
   "cell_type": "markdown",
   "metadata": {},
   "source": [
    "#Exportamos bien la BD a un CSV para la explotacion"
   ]
  },
  {
   "cell_type": "code",
   "execution_count": 15,
   "metadata": {},
   "outputs": [
    {
     "name": "stdout",
     "output_type": "stream",
     "text": [
      "Datos exportados a: C:\\Users\\santi\\Challenge-Analytics_Engineer\\DB\\indicadores_exportado.csv\n"
     ]
    }
   ],
   "source": [
    "import sqlite3\n",
    "import pandas as pd\n",
    "\n",
    "# Conectar a la base de datos\n",
    "conexion = sqlite3.connect(\"datos_internet.db\")\n",
    "\n",
    "# Leer la tabla desde la base de datos\n",
    "query = \"SELECT * FROM datos_internet\"\n",
    "df = pd.read_sql_query(query, conexion)\n",
    "\n",
    "# Guardar los datos en un archivo CSV\n",
    "ruta_csv_exportado = \"C:\\\\Users\\\\santi\\\\Challenge-Analytics_Engineer\\\\DB\\\\indicadores_exportado.csv\"\n",
    "df.to_csv(ruta_csv_exportado, index=False, encoding=\"utf-8\")\n",
    "\n",
    "print(f\"Datos exportados a: {ruta_csv_exportado}\")\n",
    "\n",
    "# Cerrar la conexión\n",
    "conexion.close()\n"
   ]
  }
 ],
 "metadata": {
  "kernelspec": {
   "display_name": "Python 3",
   "language": "python",
   "name": "python3"
  },
  "language_info": {
   "codemirror_mode": {
    "name": "ipython",
    "version": 3
   },
   "file_extension": ".py",
   "mimetype": "text/x-python",
   "name": "python",
   "nbconvert_exporter": "python",
   "pygments_lexer": "ipython3",
   "version": "3.13.1"
  }
 },
 "nbformat": 4,
 "nbformat_minor": 2
}
